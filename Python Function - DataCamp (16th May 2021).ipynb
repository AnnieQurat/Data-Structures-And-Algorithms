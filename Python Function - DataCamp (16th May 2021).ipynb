{
 "cells": [
  {
   "cell_type": "markdown",
   "metadata": {},
   "source": [
    "Functions bundle a set of instructions that you want to use repeatedly. \n",
    "3 types of functions in Python are:\n",
    "1. Built-in functions like help() min() print()\n",
    "2. UDFs User Defined Functions that users create based on their needs\n",
    "3. Lambda functions or anonymous functions that are not declared by standard def keyword "
   ]
  },
  {
   "cell_type": "markdown",
   "metadata": {},
   "source": [
    "# 2. UDFs (User Defined Functions)"
   ]
  },
  {
   "cell_type": "markdown",
   "metadata": {},
   "source": [
    "4 steps to User Define Functions:\n",
    "1. Use keyword def to declare the function and follow this with function name\n",
    "2. Add parameters of function which are in parantheses. End line with colon\n",
    "3. Add statements that funcion should execute\n",
    "4. End function with return statement if function should output something. Return with no arguments is the same as return None"
   ]
  },
  {
   "cell_type": "code",
   "execution_count": 22,
   "metadata": {},
   "outputs": [],
   "source": [
    "# with return, we can do other operations on it\n",
    "def hello():\n",
    "    print(\"Hello World\") \n",
    "    return(\"hello\")"
   ]
  },
  {
   "cell_type": "code",
   "execution_count": 24,
   "metadata": {},
   "outputs": [
    {
     "name": "stdout",
     "output_type": "stream",
     "text": [
      "Hello World\n"
     ]
    },
    {
     "data": {
      "text/plain": [
       "'hellohello'"
      ]
     },
     "execution_count": 24,
     "metadata": {},
     "output_type": "execute_result"
    }
   ],
   "source": [
    "hello() * 2"
   ]
  },
  {
   "cell_type": "code",
   "execution_count": 45,
   "metadata": {},
   "outputs": [],
   "source": [
    "# without return, we cannot perform other operations on it\n",
    "def hello_noreturn():\n",
    "  print(\"Hello World\")\n",
    "\n",
    "# performing an operation like below will return error because without return, it is same as return None\n",
    "hello_noreturn() *2 "
   ]
  },
  {
   "cell_type": "code",
   "execution_count": 47,
   "metadata": {},
   "outputs": [
    {
     "name": "stdout",
     "output_type": "stream",
     "text": [
      "Enter your name: annie\n",
      "Hello annie\n"
     ]
    }
   ],
   "source": [
    "# more complex function\n",
    "def hello():\n",
    "    name = str(input(\"Enter your name: \"))\n",
    "    if name:\n",
    "        print(\"Hello \" + str(name))\n",
    "    else:\n",
    "        print(\"Hello world\")\n",
    "    return\n",
    "hello()"
   ]
  },
  {
   "cell_type": "markdown",
   "metadata": {},
   "source": [
    "## The return statement"
   ]
  },
  {
   "cell_type": "code",
   "execution_count": 48,
   "metadata": {},
   "outputs": [],
   "source": [
    "# functions immediately exit when they come across return\n",
    "def run():\n",
    "    for x in range (10):\n",
    "        if x == 2:\n",
    "            return\n",
    "    print(\"Run\")\n",
    "run()"
   ]
  },
  {
   "cell_type": "code",
   "execution_count": 49,
   "metadata": {},
   "outputs": [
    {
     "name": "stdout",
     "output_type": "stream",
     "text": [
      "run\n"
     ]
    }
   ],
   "source": [
    "# here run is printed before return comes after it\n",
    "def run():\n",
    "    for x in range (10):\n",
    "        if x == 2:\n",
    "            print(\"run\")\n",
    "            return\n",
    "run()"
   ]
  },
  {
   "cell_type": "code",
   "execution_count": 53,
   "metadata": {},
   "outputs": [
    {
     "name": "stdout",
     "output_type": "stream",
     "text": [
      "Run!\n",
      "Run!\n",
      "Run!\n",
      "Run!\n",
      "Run!\n",
      "Run!\n",
      "Run!\n",
      "Run!\n",
      "Run!\n",
      "Run!\n"
     ]
    }
   ],
   "source": [
    "# without return, it prints run 10 times\n",
    "def run():\n",
    "    for x in range (10):\n",
    "        print(\"Run!\")\n",
    "run()"
   ]
  },
  {
   "cell_type": "code",
   "execution_count": 44,
   "metadata": {},
   "outputs": [
    {
     "name": "stdout",
     "output_type": "stream",
     "text": [
      "Run!\n"
     ]
    }
   ],
   "source": [
    "# with return, function stops iterating after first print of run\n",
    "def run():\n",
    "    for x in range(10):\n",
    "        print(\"Run!\")\n",
    "        return\n",
    "run()"
   ]
  },
  {
   "cell_type": "markdown",
   "metadata": {},
   "source": [
    "## Function Paramters"
   ]
  },
  {
   "cell_type": "markdown",
   "metadata": {},
   "source": [
    "Parameters are the names used when defining a function or a method, and into which arguments will be mapped."
   ]
  },
  {
   "cell_type": "code",
   "execution_count": 122,
   "metadata": {},
   "outputs": [
    {
     "data": {
      "text/plain": [
       "15"
      ]
     },
     "execution_count": 122,
     "metadata": {},
     "output_type": "execute_result"
    }
   ],
   "source": [
    "def plus (a,b):\n",
    "    summation = a + b\n",
    "    return (summation)\n",
    "\n",
    "# call it (execute it)\n",
    "plus(8,7)"
   ]
  },
  {
   "cell_type": "markdown",
   "metadata": {},
   "source": [
    "## Function Arguments"
   ]
  },
  {
   "cell_type": "markdown",
   "metadata": {},
   "source": [
    "An argument is the value that is sent to the function when it is called. 4 types of arguments:\n",
    "1. Default arguments\n",
    "2. Required arguments\n",
    "3. Keyword arguments\n",
    "4. Variable number of arguments"
   ]
  },
  {
   "cell_type": "markdown",
   "metadata": {},
   "source": [
    "#### 1. Default Arguments "
   ]
  },
  {
   "cell_type": "code",
   "execution_count": 105,
   "metadata": {},
   "outputs": [
    {
     "name": "stdout",
     "output_type": "stream",
     "text": [
      "3\n",
      "5\n"
     ]
    }
   ],
   "source": [
    "# default arguments take a default value if no argument value is passed during function call\n",
    "# define default value by assignment operator = \n",
    "\n",
    "def plus (a,b = 2):\n",
    "    return a + b\n",
    "\n",
    "print(plus(a=1))\n",
    "print(plus(a=1,b=4))"
   ]
  },
  {
   "cell_type": "markdown",
   "metadata": {},
   "source": [
    "#### 2. Required Arguments "
   ]
  },
  {
   "cell_type": "code",
   "execution_count": 109,
   "metadata": {},
   "outputs": [
    {
     "data": {
      "text/plain": [
       "7"
      ]
     },
     "execution_count": 109,
     "metadata": {},
     "output_type": "execute_result"
    }
   ],
   "source": [
    "# these arguments need to be passed during function call, and in precisely the right order\n",
    "def plus (a,b):\n",
    "    return a + b\n",
    "\n",
    "plus(3,4)"
   ]
  },
  {
   "cell_type": "markdown",
   "metadata": {},
   "source": [
    "#### 3. Keyword Arguments"
   ]
  },
  {
   "cell_type": "code",
   "execution_count": 114,
   "metadata": {},
   "outputs": [
    {
     "name": "stdout",
     "output_type": "stream",
     "text": [
      "9\n",
      "2\n"
     ]
    }
   ],
   "source": [
    "# if you want to make sure that you call all parameters in the right order, you can use keyword arg when calling\n",
    "# you can switch around order of parameters when calling the function, and still get the same result\n",
    "\n",
    "def plus (a,b):\n",
    "    return a + b\n",
    "\n",
    "print(plus (a=4, b=5))\n",
    "print(plus (b=2, a=0))"
   ]
  },
  {
   "cell_type": "markdown",
   "metadata": {},
   "source": [
    "#### 4. Variable Number of Arguments"
   ]
  },
  {
   "cell_type": "code",
   "execution_count": null,
   "metadata": {},
   "outputs": [],
   "source": [
    "# If you don't know exact no of arguments, you can can use following syntax with *args of * with any name \n",
    "# here it's not giving correct output because of above assignments. Don't know how to fix this one \n",
    "\n",
    "def new(*args):\n",
    "    return sum(args)\n",
    "\n",
    "# Calculate the sum\n",
    "new(1,4,5)"
   ]
  },
  {
   "cell_type": "code",
   "execution_count": 139,
   "metadata": {},
   "outputs": [
    {
     "data": {
      "text/plain": [
       "90"
      ]
     },
     "execution_count": 139,
     "metadata": {},
     "output_type": "execute_result"
    }
   ],
   "source": [
    "# we can write our own sum function to surpass the Python built-in function that's giving error above\n",
    "\n",
    "def new(*args):\n",
    "    total = 0\n",
    "    for i in args:\n",
    "        total += i\n",
    "    return total\n",
    "\n",
    "new(30,40,20)"
   ]
  },
  {
   "cell_type": "markdown",
   "metadata": {},
   "source": [
    "## Global vs Local Variables"
   ]
  },
  {
   "cell_type": "code",
   "execution_count": 149,
   "metadata": {},
   "outputs": [],
   "source": [
    "# Global variable `init`\n",
    "init = 1\n",
    "\n",
    "# Define `plus()` function to accept a variable number of arguments\n",
    "def plus(*args):\n",
    "    # Local variable `sum()`\n",
    "    total = 0\n",
    "    for i in args:\n",
    "        total += i\n",
    "    return total"
   ]
  },
  {
   "cell_type": "code",
   "execution_count": 150,
   "metadata": {},
   "outputs": [
    {
     "name": "stdout",
     "output_type": "stream",
     "text": [
      "this is the initialized value 1\n"
     ]
    }
   ],
   "source": [
    "# Access the global variable \n",
    "print(\"this is the initialized value \" + str(init))"
   ]
  },
  {
   "cell_type": "code",
   "execution_count": 152,
   "metadata": {},
   "outputs": [
    {
     "name": "stdout",
     "output_type": "stream",
     "text": [
      "this is the sum 15\n"
     ]
    }
   ],
   "source": [
    "# Can only access the local variable by calling the function\n",
    "print(\"this is the sum \" + str(plus(4,5,6)))"
   ]
  },
  {
   "cell_type": "code",
   "execution_count": null,
   "metadata": {},
   "outputs": [],
   "source": [
    "# (Try to) access the local variable. Gives error because 'total' is a local var and is inside a function body\n",
    "print(\"this is the sum \" + str(total))"
   ]
  },
  {
   "cell_type": "markdown",
   "metadata": {},
   "source": [
    "# 3. Lambda or Anonymous Functions"
   ]
  },
  {
   "cell_type": "markdown",
   "metadata": {},
   "source": [
    "#### Lambda Function with one argument"
   ]
  },
  {
   "cell_type": "code",
   "execution_count": 154,
   "metadata": {},
   "outputs": [
    {
     "data": {
      "text/plain": [
       "10"
      ]
     },
     "execution_count": 154,
     "metadata": {},
     "output_type": "execute_result"
    }
   ],
   "source": [
    "# They are called anonymous because instead of using standard def() you can just use lambda\n",
    "double = lambda x: x*2\n",
    "double(5)"
   ]
  },
  {
   "cell_type": "markdown",
   "metadata": {},
   "source": [
    "#### UDF of above"
   ]
  },
  {
   "cell_type": "code",
   "execution_count": 159,
   "metadata": {},
   "outputs": [
    {
     "data": {
      "text/plain": [
       "6"
      ]
     },
     "execution_count": 159,
     "metadata": {},
     "output_type": "execute_result"
    }
   ],
   "source": [
    "def double(x):\n",
    "    return x*2\n",
    "double(3)"
   ]
  },
  {
   "cell_type": "markdown",
   "metadata": {},
   "source": [
    "#### Lambda function with two arguments "
   ]
  },
  {
   "cell_type": "code",
   "execution_count": 160,
   "metadata": {},
   "outputs": [
    {
     "data": {
      "text/plain": [
       "9"
      ]
     },
     "execution_count": 160,
     "metadata": {},
     "output_type": "execute_result"
    }
   ],
   "source": [
    "sum = lambda x, y: x+y\n",
    "sum(4,5)"
   ]
  },
  {
   "cell_type": "markdown",
   "metadata": {},
   "source": [
    "#### UDF of above"
   ]
  },
  {
   "cell_type": "code",
   "execution_count": 174,
   "metadata": {},
   "outputs": [
    {
     "data": {
      "text/plain": [
       "9"
      ]
     },
     "execution_count": 174,
     "metadata": {},
     "output_type": "execute_result"
    }
   ],
   "source": [
    "def sum(x,y):\n",
    "    return x+y\n",
    "sum(4,5)"
   ]
  },
  {
   "cell_type": "markdown",
   "metadata": {},
   "source": [
    "### Lambda Functions with filter(), map(), reduce() "
   ]
  },
  {
   "cell_type": "code",
   "execution_count": null,
   "metadata": {},
   "outputs": [],
   "source": [
    "# Anonymous function is used when you require a nameless fun for a short period of time, created at runtime \n",
    "# Contexts where this would be relevant is filter(), map(), reduce()\n",
    "\n",
    "from functools import reduce\n",
    "my_list = [1,2,3,4,5,6,7,8,9,10]"
   ]
  },
  {
   "cell_type": "markdown",
   "metadata": {},
   "source": [
    "#### filter() "
   ]
  },
  {
   "cell_type": "code",
   "execution_count": 194,
   "metadata": {},
   "outputs": [
    {
     "name": "stdout",
     "output_type": "stream",
     "text": [
      "filtered_list: [6, 7, 8, 9, 10]\n"
     ]
    }
   ],
   "source": [
    "# Use Lambda function with filter()\n",
    "# filter() filters a list on criterion >10 \n",
    "\n",
    "filtered_list = list(filter(lambda x: (x*2 > 10), my_list))\n",
    "print(\"filtered_list:\", filtered_list)"
   ]
  },
  {
   "cell_type": "markdown",
   "metadata": {},
   "source": [
    "#### map() "
   ]
  },
  {
   "cell_type": "code",
   "execution_count": 195,
   "metadata": {},
   "outputs": [
    {
     "name": "stdout",
     "output_type": "stream",
     "text": [
      "mapped_list: [2, 4, 6, 8, 10, 12, 14, 16, 18, 20]\n"
     ]
    }
   ],
   "source": [
    "# Use Lambda function with map()\n",
    "# map() takes in two arguments, and you apply a function to all arguments of a list, here you multiply with 2 \n",
    "\n",
    "mapped_list = list(map(lambda x: x*2, my_list)) \n",
    "print(\"mapped_list:\", mapped_list)"
   ]
  },
  {
   "cell_type": "markdown",
   "metadata": {},
   "source": [
    "#### reduce() "
   ]
  },
  {
   "cell_type": "code",
   "execution_count": 196,
   "metadata": {},
   "outputs": [
    {
     "name": "stdout",
     "output_type": "stream",
     "text": [
      "reduced_list:  55\n"
     ]
    }
   ],
   "source": [
    "# Use Lambda function with reduce()\n",
    "# reduce() is part of functools library, use this function culmulatively to add items in list from left to right\n",
    "# to reduce the sequence to a single value\n",
    "\n",
    "reduced_list = reduce(lambda x,y: x+y, my_list)\n",
    "print(\"reduced_list: \", reduced_list)"
   ]
  },
  {
   "cell_type": "markdown",
   "metadata": {},
   "source": [
    "# main() as a function"
   ]
  },
  {
   "cell_type": "markdown",
   "metadata": {},
   "source": [
    "main function in Java is required to execute a function. \n",
    "It's not necessary in Python but can be used to structure code\n",
    "All important contents are within this main() function."
   ]
  },
  {
   "cell_type": "code",
   "execution_count": 201,
   "metadata": {},
   "outputs": [
    {
     "name": "stdout",
     "output_type": "stream",
     "text": [
      "Enter your name: annie\n",
      "Hello annie\n",
      "Run!\n",
      "Run!\n",
      "Run!\n",
      "Run!\n",
      "Run!\n",
      "Run!\n",
      "Run!\n",
      "Run!\n",
      "Run!\n",
      "Run!\n",
      "this is the main function\n"
     ]
    }
   ],
   "source": [
    "# You can easily define main() and call it when you are done with all other functions above.\n",
    "\n",
    "def main():\n",
    "    hello()\n",
    "    run()\n",
    "    plus(8,7) #why isn't this being executed?\n",
    "    print(\"this is the main function\")\n",
    "    \n",
    "main()"
   ]
  },
  {
   "cell_type": "code",
   "execution_count": 204,
   "metadata": {
    "scrolled": true
   },
   "outputs": [
    {
     "name": "stdout",
     "output_type": "stream",
     "text": [
      "Enter your name: annie\n",
      "Hello annie\n",
      "Run!\n",
      "Run!\n",
      "Run!\n",
      "Run!\n",
      "Run!\n",
      "Run!\n",
      "Run!\n",
      "Run!\n",
      "Run!\n",
      "Run!\n",
      "This is the main function\n"
     ]
    }
   ],
   "source": [
    "# the code of main() will be called when you call it as a module or a function\n",
    "# to make sure that this doesn’t happen, you call the main() function when __name__ == '__main__'\n",
    "# it is used so users don't accidently invoke the script when they didn't intent to\n",
    "\n",
    "def main():\n",
    "    hello()\n",
    "    run()\n",
    "    plus(8,7)\n",
    "    print(\"This is the main function\")\n",
    "    \n",
    "if __name__ == '__main__':\n",
    "    main()"
   ]
  },
  {
   "cell_type": "markdown",
   "metadata": {},
   "source": [
    "Note that besides the __main__ function, you also have an __init__ function that initializes an instance of a class or an object. Simply stated, it acts as a constructor or initializer and is automatically called when you create a new instance of a class. With that function, the newly created object is assigned to the parameter self, which you saw earlier in this tutorial. Take a look at the following example:"
   ]
  },
  {
   "cell_type": "code",
   "execution_count": 205,
   "metadata": {},
   "outputs": [
    {
     "name": "stdout",
     "output_type": "stream",
     "text": [
      "barkbark\n"
     ]
    }
   ],
   "source": [
    "class Dog:\n",
    "    \"\"\"    \n",
    "    Requires:\n",
    "    legs - Legs so that the dog can walk.\n",
    "    color - A color of the fur.\n",
    "    \"\"\"\n",
    "\n",
    "    def __init__(self, legs, color):\n",
    "        self.legs = legs\n",
    "        self.color = color\n",
    "        \n",
    "    def bark(self):\n",
    "        bark = \"bark\" * 2\n",
    "        return bark\n",
    "\n",
    "if __name__ == \"__main__\":\n",
    "    dog = Dog(4, \"brown\")\n",
    "    bark = dog.bark()\n",
    "    print(bark)"
   ]
  }
 ],
 "metadata": {
  "kernelspec": {
   "display_name": "Python 3",
   "language": "python",
   "name": "python3"
  },
  "language_info": {
   "codemirror_mode": {
    "name": "ipython",
    "version": 3
   },
   "file_extension": ".py",
   "mimetype": "text/x-python",
   "name": "python",
   "nbconvert_exporter": "python",
   "pygments_lexer": "ipython3",
   "version": "3.7.6"
  }
 },
 "nbformat": 4,
 "nbformat_minor": 4
}
